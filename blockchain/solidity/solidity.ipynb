{
 "cells": [
  {
   "cell_type": "markdown",
   "metadata": {},
   "source": [
    "## Goerli command for web3\n",
    "geth --goerli --http --syncmode light --http.api \"personal,net,eth,debug\"\n",
    "\n",
    "Geth Command\n",
    "\n",
    "geth account \n",
    "geth init \n",
    "geth help \n",
    "geth attach\n",
    "\n",
    "## Truffle Command\n",
    "\n",
    "truffle init  # create a new project\n",
    "truffle unbox <box-name> # download demo project\n",
    "truffle unbox metacoin\n",
    "truffle compile #compile contract\n",
    "truffle develop # Start test Ethereum environment\n",
    "truffle test # Run unit tests\n",
    "truffle migrated # Deploy smart contract\n",
    "\n",
    "\n"
   ]
  }
 ],
 "metadata": {
  "kernelspec": {
   "display_name": "Python 3.9.10 64-bit ('3.9.10')",
   "language": "python",
   "name": "python3"
  },
  "language_info": {
   "name": "python",
   "version": "3.9.10"
  },
  "orig_nbformat": 4,
  "vscode": {
   "interpreter": {
    "hash": "dd224fd2cb565c3513380784d7890424cf845a52c875a0cc0037d0be8b77a488"
   }
  }
 },
 "nbformat": 4,
 "nbformat_minor": 2
}
