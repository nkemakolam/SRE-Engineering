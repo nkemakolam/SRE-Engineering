{
 "cells": [
  {
   "attachments": {},
   "cell_type": "markdown",
   "metadata": {},
   "source": [
    "# to list the database instances in the postgres\n",
    "\\l\n",
    "# to connect to an instance \n",
    "\\c\n",
    "# to list the tables in the connected instance \n",
    "\\dt+"
   ]
  }
 ],
 "metadata": {
  "language_info": {
   "name": "python"
  },
  "orig_nbformat": 4
 },
 "nbformat": 4,
 "nbformat_minor": 2
}
