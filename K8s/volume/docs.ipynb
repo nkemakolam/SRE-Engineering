{
 "cells": [
  {
   "cell_type": "markdown",
   "metadata": {},
   "source": [
    "Volumes in kubernetes is simply in it simple form a folder\n",
    "emptyDir is created when a pod is assigned to a node and exist as long as the node is running on the node.and its initiated empty.\n",
    "All containers inthe pod can read and write the same file in the emptyDir volume,this volume can be mounted at the same path or different path in each container. When a pod is removed from a node for any reason the data in the emptyDir deleted permanently\n",
    "\n",
    "Hostpath "
   ]
  },
  {
   "cell_type": "code",
   "execution_count": 12,
   "metadata": {},
   "outputs": [
    {
     "ename": "SyntaxError",
     "evalue": "invalid syntax (3723487831.py, line 3)",
     "output_type": "error",
     "traceback": [
      "\u001b[0;36m  Input \u001b[0;32mIn [12]\u001b[0;36m\u001b[0m\n\u001b[0;31m    metadata:\u001b[0m\n\u001b[0m             ^\u001b[0m\n\u001b[0;31mSyntaxError\u001b[0m\u001b[0;31m:\u001b[0m invalid syntax\n"
     ]
    }
   ],
   "source": [
    "apiVersion: v1\n",
    "kind: Pod\n",
    "metadata:\n",
    "  name: test-pd\n",
    "spec:\n",
    "  containers:\n",
    "  - image: k8s.gcr.io/test-webserver\n",
    "    name: test-container\n",
    "    volumeMounts:\n",
    "    - mountPath: /test-pd\n",
    "      name: test-volume\n",
    "  volumes:\n",
    "  - name: test-volume\n",
    "    hostPath:\n",
    "      # directory location on host\n",
    "      path: /data\n",
    "      # this field is optional\n",
    "      type: Directory"
   ]
  },
  {
   "cell_type": "markdown",
   "metadata": {},
   "source": [
    "\n",
    "\n",
    "Here we will highlight all the yaml and shell command to achiev this\n",
    "\n",
    "This page shows you how to configure a Pod to use a PersistentVolumeClaim for storage. Here is a summary of the process:\n",
    "- You, as cluster administrator, create a PersistentVolume backed by physical storage. You do not associate the volume with any Pod.\n",
    "- You, now taking the role of a developer / cluster user, create a PersistentVolumeClaim that is automatically bound to a suitable PersistentVolume.\n",
    "- You create a Pod that uses the above PersistentVolumeClaim for storage.\n",
    "\n",
    "Create a PersistentVolume \n",
    "Percistent Volume claim using minikube local file  or what we call hostPath in kubernete as network Storage"
   ]
  },
  {
   "cell_type": "code",
   "execution_count": 13,
   "metadata": {
    "vscode": {
     "languageId": "shellscript"
    }
   },
   "outputs": [
    {
     "ename": "SyntaxError",
     "evalue": "invalid syntax (2094616608.py, line 2)",
     "output_type": "error",
     "traceback": [
      "\u001b[0;36m  Input \u001b[0;32mIn [13]\u001b[0;36m\u001b[0m\n\u001b[0;31m    kubectx minikube\u001b[0m\n\u001b[0m            ^\u001b[0m\n\u001b[0;31mSyntaxError\u001b[0m\u001b[0;31m:\u001b[0m invalid syntax\n"
     ]
    }
   ],
   "source": [
    "\"first set up minkube  and ssh to the minikube and perform the sequence of action the \"\n",
    "kubectx minikube\n",
    "minikube ssh\n",
    "sudo mkdir /mnt/data\n",
    "sudo sh -c \"echo 'Hello from Kubernetes storage' > /mnt/data/index.html\"\n",
    "#or use any text editor to create the file and append words into it"
   ]
  }
 ],
 "metadata": {
  "kernelspec": {
   "display_name": "Python 3.9.4 64-bit ('3.9.4')",
   "language": "python",
   "name": "python3"
  },
  "language_info": {
   "codemirror_mode": {
    "name": "ipython",
    "version": 3
   },
   "file_extension": ".py",
   "mimetype": "text/x-python",
   "name": "python",
   "nbconvert_exporter": "python",
   "pygments_lexer": "ipython3",
   "version": "3.9.4"
  },
  "orig_nbformat": 4,
  "vscode": {
   "interpreter": {
    "hash": "775bb0c6daa72b7d57c0b5c39545651d1921246c9cbd000b6bc39174da8058eb"
   }
  }
 },
 "nbformat": 4,
 "nbformat_minor": 2
}
