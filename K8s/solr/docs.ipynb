{
 "cells": [
  {
   "cell_type": "code",
   "execution_count": null,
   "metadata": {},
   "outputs": [],
   "source": [
    "/opt/solr/example/files/conf$ cat solrconfig.xml "
   ]
  }
 ],
 "metadata": {
  "kernelspec": {
   "display_name": "Python 3",
   "language": "python",
   "name": "python3"
  },
  "language_info": {
   "name": "python",
   "version": "3.9.4 (default, Apr  6 2021, 00:57:04) \n[Clang 12.0.0 (clang-1200.0.32.29)]"
  },
  "orig_nbformat": 4,
  "vscode": {
   "interpreter": {
    "hash": "775bb0c6daa72b7d57c0b5c39545651d1921246c9cbd000b6bc39174da8058eb"
   }
  }
 },
 "nbformat": 4,
 "nbformat_minor": 2
}
