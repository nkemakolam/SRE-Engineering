{
 "cells": [
  {
   "cell_type": "code",
   "execution_count": 6,
   "metadata": {},
   "outputs": [
    {
     "name": "stdout",
     "output_type": "stream",
     "text": [
      "4447345072\n",
      "0x1091519b0\n"
     ]
    }
   ],
   "source": [
    "## https://github.com/fbaptiste/python-deepdive\n",
    "greeting  = 'hello'\n",
    "print(id(greeting))\n",
    "print(hex(id(greeting)))"
   ]
  },
  {
   "cell_type": "markdown",
   "metadata": {},
   "source": [
    "# Memory \n",
    "Memoey is a heap, and is uses the label to point location or address in the computer where variable are stored as showing the example above."
   ]
  },
  {
   "cell_type": "markdown",
   "metadata": {},
   "source": [
    "## RefCount in python\n",
    "##### sys.getrefcount() __function__\n",
    "How to find the reference count in python using the sys.getrefcount(my_var)\n",
    "doen side of using refcount is that it create another reference to the same ref there by increasing the count\n",
    "\n",
    "###### ctypes.c_long.from_address(address).value\n",
    "This is a ctypes  library that accepts the actual memmory address and as a result it value and doesnt have the draw back of creating another ref like the sys.getrefcount()"
   ]
  },
  {
   "cell_type": "code",
   "execution_count": 2,
   "metadata": {},
   "outputs": [
    {
     "name": "stdout",
     "output_type": "stream",
     "text": [
      "4450901568\n",
      "2\n"
     ]
    }
   ],
   "source": [
    "import sys\n",
    "\n",
    "a = [1,2,3]\n",
    "\n",
    "print(id(a))\n",
    "result = sys.getrefcount(a)\n",
    "print(result)"
   ]
  },
  {
   "cell_type": "code",
   "execution_count": 5,
   "metadata": {},
   "outputs": [
    {
     "name": "stdout",
     "output_type": "stream",
     "text": [
      "4452225792\n",
      "4452225792\n"
     ]
    },
    {
     "data": {
      "text/plain": [
       "2"
      ]
     },
     "execution_count": 5,
     "metadata": {},
     "output_type": "execute_result"
    }
   ],
   "source": [
    "import ctypes\n",
    "a = [1,2,3]\n",
    "b = a \n",
    "print(id(a))\n",
    "print(id(b))\n",
    "\n",
    "def ref_count(address: int):\n",
    "    return ctypes.c_long.from_address(address).value\n",
    "\n",
    "ref_count(id(a))\n",
    "ref_count(id(b))"
   ]
  },
  {
   "cell_type": "markdown",
   "metadata": {},
   "source": [
    "## ctypes\n",
    "Ref count is 1 because when id(a run it returns the pointer. \n",
    "In python we dont deal with memory address directly and we except for some case or deburging purpose.\n",
    "as we create object in memeory python keep track of the references of the object it could be 1-infinity and when the reference reaches zero the python memory manager discard that object and it reference pointer and reclaim that memory\n",
    "#### circular references"
   ]
  },
  {
   "cell_type": "markdown",
   "metadata": {},
   "source": [
    "### Gabbage collection\n"
   ]
  },
  {
   "cell_type": "code",
   "execution_count": null,
   "metadata": {},
   "outputs": [],
   "source": []
  }
 ],
 "metadata": {
  "kernelspec": {
   "display_name": "Python 3.9.4 64-bit ('3.9.4')",
   "language": "python",
   "name": "python3"
  },
  "language_info": {
   "codemirror_mode": {
    "name": "ipython",
    "version": 3
   },
   "file_extension": ".py",
   "mimetype": "text/x-python",
   "name": "python",
   "nbconvert_exporter": "python",
   "pygments_lexer": "ipython3",
   "version": "3.9.4"
  },
  "orig_nbformat": 4,
  "vscode": {
   "interpreter": {
    "hash": "775bb0c6daa72b7d57c0b5c39545651d1921246c9cbd000b6bc39174da8058eb"
   }
  }
 },
 "nbformat": 4,
 "nbformat_minor": 2
}
