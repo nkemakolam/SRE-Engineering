{
 "cells": [
  {
   "cell_type": "code",
   "execution_count": null,
   "metadata": {},
   "outputs": [],
   "source": []
  },
  {
   "cell_type": "code",
   "execution_count": 1,
   "metadata": {},
   "outputs": [
    {
     "name": "stdout",
     "output_type": "stream",
     "text": [
      "Foo: 10\n"
     ]
    }
   ],
   "source": [
    "class Foo:\n",
    "    def __init__(self, x):\n",
    "        self.x = x\n",
    "\n",
    "    def test(self):\n",
    "        return \"Foo: {}\".format(self.x)\n",
    "\n",
    "\n",
    "class Bar:\n",
    "    def __init__(self, x):\n",
    "        self.x = x\n",
    "\n",
    "    def test(self):\n",
    "        return \"Bar: {}\".format(self.x)\n",
    "\n",
    "\n",
    "class Foobar(Foo, Bar):\n",
    "    pass\n",
    "\n",
    "\n",
    "obj = Foobar(10)\n",
    "print(obj.test())"
   ]
  },
  {
   "cell_type": "code",
   "execution_count": 3,
   "metadata": {},
   "outputs": [
    {
     "name": "stdout",
     "output_type": "stream",
     "text": [
      "[0, 1, 0, 1, 2]\n"
     ]
    }
   ],
   "source": [
    "def test(n, x=[]):\n",
    "    x.extend(range(n))\n",
    "    return x\n",
    "\n",
    "a = test(2)\n",
    "b = test(3)\n",
    "print(b)"
   ]
  }
 ],
 "metadata": {
  "kernelspec": {
   "display_name": "Python 3.9.4 64-bit ('3.9.4')",
   "language": "python",
   "name": "python3"
  },
  "language_info": {
   "codemirror_mode": {
    "name": "ipython",
    "version": 3
   },
   "file_extension": ".py",
   "mimetype": "text/x-python",
   "name": "python",
   "nbconvert_exporter": "python",
   "pygments_lexer": "ipython3",
   "version": "3.9.4"
  },
  "orig_nbformat": 4,
  "vscode": {
   "interpreter": {
    "hash": "775bb0c6daa72b7d57c0b5c39545651d1921246c9cbd000b6bc39174da8058eb"
   }
  }
 },
 "nbformat": 4,
 "nbformat_minor": 2
}
