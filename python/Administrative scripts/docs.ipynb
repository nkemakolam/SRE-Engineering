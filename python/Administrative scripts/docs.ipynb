{
 "cells": [
  {
   "cell_type": "markdown",
   "metadata": {},
   "source": [
    "https://stackoverflow.com/questions/27494758/how-do-i-make-a-python-script-executable"
   ]
  }
 ],
 "metadata": {
  "kernelspec": {
   "display_name": "Python 3.9.10 64-bit ('3.9.10')",
   "language": "python",
   "name": "python3"
  },
  "language_info": {
   "name": "python",
   "version": "3.9.10"
  },
  "orig_nbformat": 4,
  "vscode": {
   "interpreter": {
    "hash": "dd224fd2cb565c3513380784d7890424cf845a52c875a0cc0037d0be8b77a488"
   }
  }
 },
 "nbformat": 4,
 "nbformat_minor": 2
}
