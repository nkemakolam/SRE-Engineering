{
 "cells": [
  {
   "cell_type": "code",
   "execution_count": null,
   "metadata": {},
   "outputs": [],
   "source": [
    "docker run -dp 5005:5000 rest-ap[i-flask-python]"
   ]
  }
 ],
 "metadata": {
  "kernelspec": {
   "display_name": "Python 3.9.10 64-bit ('3.9.10')",
   "language": "python",
   "name": "python3"
  },
  "language_info": {
   "name": "python",
   "version": "3.9.10"
  },
  "orig_nbformat": 4,
  "vscode": {
   "interpreter": {
    "hash": "dd224fd2cb565c3513380784d7890424cf845a52c875a0cc0037d0be8b77a488"
   }
  }
 },
 "nbformat": 4,
 "nbformat_minor": 2
}
