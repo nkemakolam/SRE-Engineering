{
 "cells": [
  {
   "cell_type": "markdown",
   "metadata": {},
   "source": [
    "# the core difference between list, tupple,set\n",
    "* The are all collection or various representation of Array\n",
    "* list is represented by square bracket while tupple a bracket and set by curly braces\n",
    "example:\n",
    " 1. list = [\"boy\",\"girl\",\"man\"]\n",
    " 2. tupple = (\"boy\",\"girl\",\"man\")\n",
    " 3.  dictionary = {\"boy\",\"girl\",man\"}\n",
    "* You can append or remove from list but you can not in tupple in other word list,set is mutable while tupple is not\n",
    "* set can not alaso have duplicate\n",
    "  set does not keep the order of the array object while list and tupple do.\n",
    "* Subscript notaion can be applied to list and tupple to get or retriev the index.S\n",
    "\n"
   ]
  },
  {
   "cell_type": "code",
   "execution_count": 30,
   "metadata": {},
   "outputs": [
    {
     "ename": "TypeError",
     "evalue": "'list' object is not callable",
     "output_type": "error",
     "traceback": [
      "\u001b[0;31m---------------------------------------------------------------------------\u001b[0m",
      "\u001b[0;31mTypeError\u001b[0m                                 Traceback (most recent call last)",
      "\u001b[1;32m/Users/nkemakolamnnadi/Documents/Project/SRE-Engineering/python/flaskrestApi/REST API with python and flask/python_tips_collections.ipynb Cell 2\u001b[0m in \u001b[0;36m<cell line: 4>\u001b[0;34m()\u001b[0m\n\u001b[1;32m      <a href='vscode-notebook-cell:/Users/nkemakolamnnadi/Documents/Project/SRE-Engineering/python/flaskrestApi/REST%20API%20with%20python%20and%20flask/python_tips_collections.ipynb#W1sZmlsZQ%3D%3D?line=1'>2</a>\u001b[0m sequence \u001b[39m=\u001b[39m [\u001b[39m2\u001b[39m,\u001b[39m3\u001b[39m,\u001b[39m5\u001b[39m,\u001b[39m6\u001b[39m,\u001b[39m7\u001b[39m]\n\u001b[1;32m      <a href='vscode-notebook-cell:/Users/nkemakolamnnadi/Documents/Project/SRE-Engineering/python/flaskrestApi/REST%20API%20with%20python%20and%20flask/python_tips_collections.ipynb#W1sZmlsZQ%3D%3D?line=2'>3</a>\u001b[0m doubled \u001b[39m=\u001b[39m [(\u001b[39mlambda\u001b[39;00m x: x\u001b[39m*\u001b[39m\u001b[39m2\u001b[39m)(x) \u001b[39mfor\u001b[39;00m x \u001b[39min\u001b[39;00m sequence]\n\u001b[0;32m----> <a href='vscode-notebook-cell:/Users/nkemakolamnnadi/Documents/Project/SRE-Engineering/python/flaskrestApi/REST%20API%20with%20python%20and%20flask/python_tips_collections.ipynb#W1sZmlsZQ%3D%3D?line=3'>4</a>\u001b[0m doubled \u001b[39m=\u001b[39m \u001b[39mlist\u001b[39;49m(\u001b[39mmap\u001b[39;49m(doubled, sequence))\n",
      "\u001b[0;31mTypeError\u001b[0m: 'list' object is not callable"
     ]
    }
   ],
   "source": [
    "## Lamda expression in python\n",
    "sequence = [2,3,5,6,7]\n",
    "doubled = [(lambda x: x*2)(x) for x in sequence]\n",
    "doubled = list(map(doubled, sequence))"
   ]
  },
  {
   "cell_type": "code",
   "execution_count": null,
   "metadata": {},
   "outputs": [
    {
     "name": "stdout",
     "output_type": "stream",
     "text": [
      "{'Bob': (0, 'Bob', 'bob123'), 'Rolf': (1, 'Rolf', 'password'), 'Jose': (3, 'Jose', 'abcdefc'), 'kevin': (4, 'kevin', 'ghost')}\n"
     ]
    }
   ],
   "source": [
    "users =  [\n",
    "    (0, \"Bob\", \"bob123\"),\n",
    "    (1, \"Rolf\", \"password\"),\n",
    "    (3, \"Jose\", \"abcdefc\"),\n",
    "    (4, \"kevin\", \"ghost\"),\n",
    "]\n",
    "\n",
    "username_mapping = {user[1]: user for user in users}\n",
    "\n",
    "print(username_mapping)"
   ]
  },
  {
   "cell_type": "code",
   "execution_count": null,
   "metadata": {},
   "outputs": [
    {
     "name": "stdout",
     "output_type": "stream",
     "text": [
      " your details are correct!\n"
     ]
    }
   ],
   "source": [
    "# smaple login strategy usuing dictionary list comprihension\n",
    "users =  [\n",
    "    (0, \"Bob\", \"bob123\"),\n",
    "    (1, \"Rolf\", \"password\"),\n",
    "    (3, \"Jose\", \"abcdefc\"),\n",
    "    (4, \"kevin\", \"ghost\"),\n",
    "]\n",
    "\n",
    "username_mapping = {user[1]: user for user in users}\n",
    "\n",
    "username_input = input(\"Enter your username \")\n",
    "password_input = input(\"Enter your password \")\n",
    "\n",
    "_, username, password = username_mapping[username_input]\n",
    "\n",
    "if password_input == password:\n",
    "    print(\" your details are correct!\")\n",
    "else:\n",
    "    print(\"your details are incorrect\")"
   ]
  },
  {
   "cell_type": "code",
   "execution_count": null,
   "metadata": {},
   "outputs": [],
   "source": [
    "# task 1\n",
    "# create a variable called student with a dictionary\n",
    "# the dictionary must contain three keys 'name' 'school' and 'grade'\n",
    "# the  value for each must be 'nkem' 'computer' and a tupple with the values 66.77, and 99\n",
    "\n",
    "student= {'name': 'jose', 'school': 'computing', 'grade':(66,77,88)}\n",
    "\n",
    "# task 2\n",
    "# Assume the argument , data is a dictionary,\n",
    "#  Modified the grad variable to so it access the grade the 'grade' key of the data dictionary\n",
    "def avaerage_grade(data):\n",
    "    grade = student['grade']\n",
    "    return sum(grade)/len(grade)\n",
    "\n",
    "# Task 3\n",
    "# implement the function below\n",
    "# Give a list of student (dictionaries ) calculating the average grade of the class\n",
    "# you must add all the grade of all the student together\n",
    "# You must be also count how many grade there are in total in the entire list\n",
    "def average_grade_all_students(student_list):\n",
    "    total = 0\n",
    "    count = 0\n",
    "    for student in student_list:\n",
    "        total =+ sum(student['grade'])\n",
    "        total =+ len(student['grade'])\n",
    "    return total / count"
   ]
  },
  {
   "cell_type": "code",
   "execution_count": null,
   "metadata": {},
   "outputs": [
    {
     "name": "stdout",
     "output_type": "stream",
     "text": [
      "630\n"
     ]
    }
   ],
   "source": [
    "# using *args for collecting positional argument\n",
    "# note that position argument *args return or prints a tupple\n",
    "def multiply_arg(*args):\n",
    "    total = 1\n",
    "    for arg in args:\n",
    "        total = total * arg\n",
    "    return total\n",
    "\n",
    "print(multiply_arg(1,3,5,6,7))"
   ]
  },
  {
   "cell_type": "code",
   "execution_count": null,
   "metadata": {},
   "outputs": [
    {
     "name": "stdout",
     "output_type": "stream",
     "text": [
      "{'x': 15, 'y': 4}\n",
      "19\n"
     ]
    }
   ],
   "source": [
    "# usin the ** to unpack aregument for a function\n",
    "def add(x,y):\n",
    "    return x +y \n",
    "\n",
    "nums = {\"x\": 15, \"y\":4}\n",
    "print(nums) # wrong result\n",
    "print(add(**nums)) # correct"
   ]
  },
  {
   "cell_type": "code",
   "execution_count": null,
   "metadata": {},
   "outputs": [
    {
     "name": "stdout",
     "output_type": "stream",
     "text": [
      "24\n"
     ]
    }
   ],
   "source": [
    "# using *args for collecting positional argument\n",
    "def multiply_arg(*args):\n",
    "    total = 1\n",
    "    for arg in args:\n",
    "        total = total * arg\n",
    "    return total\n",
    "\n",
    "# using the arg and operator where operator is a named argument\n",
    "#\n",
    "def apply(* args, operator):\n",
    "    if operator == \"+\":\n",
    "        return sum(args) \n",
    "    elif operator == \"*\":\n",
    "        return multiply_arg(*args)\n",
    "    else:\n",
    "        return \"not a valid operator\"\n",
    "\n",
    "print(apply(1,2,3,4,operator=\"*\"))"
   ]
  },
  {
   "cell_type": "code",
   "execution_count": 32,
   "metadata": {},
   "outputs": [
    {
     "name": "stdout",
     "output_type": "stream",
     "text": [
      "{'name': 'Bob', 'age': 35}\n",
      "{'name': 'nkem', 'age': 34}\n",
      "{'name': 'harkudo', 'age': 23}\n",
      "name: harkudo\n",
      "age: 23\n",
      "(2, 5, 6)\n",
      "{'name': 'fjk', 'age': 29}\n"
     ]
    }
   ],
   "source": [
    "# **kwargs used to collect named argument to dictionary or used it to unpack dictioary to named argument\n",
    "# \"**kwargs returns a dictionaries\"\n",
    "# \"**kwargs collect key word argument\" eg\n",
    "\n",
    "#task one using the **kwargs to collect dictionary to maed argument\n",
    "import request\n",
    "def named(**kwargs):\n",
    "    print(kwargs)\n",
    "\n",
    "\n",
    "named(name ='Bob', age=35)\n",
    "\n",
    "#Task two using **kward to unpack dictionary to named argument\n",
    "\n",
    "def unpackingnamed(**kwargs):\n",
    "    print(kwargs)\n",
    "\n",
    "details = {\"name\": \"nkem\", \"age\": 34}\n",
    "\n",
    "unpackingnamed(**details)\n",
    "\n",
    "def print_nicely(**kwargs):\n",
    "    named(**kwargs)\n",
    "    for arg, value in kwargs.items():\n",
    "        print(f\"{arg}: {value}\")\n",
    "\n",
    "print_nicely(name=\"harkudo\", age= 23)\n",
    "\n",
    "# you can use both *args for positioal and **kwargs for dictionary argument\n",
    "\n",
    "def both(*args, **kwargs):\n",
    "    print(args)\n",
    "    print(kwargs)\n",
    "\n",
    "both(2,5,6, name=\"fjk\",age=29)\n",
    "\n",
    "def post(url,data=None, json=None, **kwargs):\n",
    "    return request('post',url,data=data,json=json,**kwargs)"
   ]
  },
  {
   "cell_type": "code",
   "execution_count": 36,
   "metadata": {},
   "outputs": [
    {
     "name": "stdout",
     "output_type": "stream",
     "text": [
      "Rolf\n",
      "(90, 90, 93, 78, 90)\n"
     ]
    }
   ],
   "source": [
    "## Object oriented programing\n",
    "\n",
    "\n",
    "class Student:\n",
    "    def __init__(self):\n",
    "        self.name = \"Rolf\"\n",
    "        self.grades = (90,90,93,78,90)\n",
    "        \n",
    "student = Student()\n",
    "print(student.name)\n",
    "print(student.grades)"
   ]
  },
  {
   "cell_type": "code",
   "execution_count": 7,
   "metadata": {},
   "outputs": [
    {
     "name": "stdout",
     "output_type": "stream",
     "text": [
      "Person bob,45 year old\n"
     ]
    }
   ],
   "source": [
    "#using positional argument and magic methods in classes\n",
    "class Person:\n",
    "    def __init__(self,name,age):\n",
    "        self.name = name\n",
    "        self.age= age\n",
    "    def __str__(self):\n",
    "        return f\"Person {self.name},{self.age} year old\"\n",
    "\n",
    "    def __repr__(self):\n",
    "        return f\"<Person('{self.name}', {self.age})>\"\n",
    "\n",
    "bob = Person(\"bob\", 45)\n",
    "print(bob)"
   ]
  },
  {
   "cell_type": "code",
   "execution_count": 41,
   "metadata": {},
   "outputs": [],
   "source": [
    "# Example 2 is Class\n",
    "class Store:\n",
    "    def __init__(self, name):\n",
    "        self.name = name\n",
    "        self.item = []\n",
    "    def add_item(self , name, price):\n",
    "        item = {'name': name, 'price':price}\n",
    "\n",
    "    def stock_price(self):\n",
    "        sum([item['price'] for item in self.item])"
   ]
  },
  {
   "cell_type": "code",
   "execution_count": null,
   "metadata": {},
   "outputs": [],
   "source": [
    "# classmethod and staticmethod\n",
    "\n",
    "class ClassTest:\n",
    "    def instance_method(self):\n",
    "        print(f\"callled instance_method of {self}\")\n",
    "    def __str__(self):\n",
    "        return f\"Person {self}\"\n",
    "\n",
    "test = ClassTest()\n",
    "test.instance_method()\n",
    "ClassTest.instance_method(test)\n"
   ]
  },
  {
   "cell_type": "code",
   "execution_count": 25,
   "metadata": {},
   "outputs": [
    {
     "name": "stdout",
     "output_type": "stream",
     "text": [
      "Device 'Printer' USB\n",
      "Disconnected\n",
      "Printing {pages} pages\n",
      "Device 'printer' USB (480 pages remaining)\n"
     ]
    }
   ],
   "source": [
    "## Class inheritance\n",
    "class Device:\n",
    "    def __init__(self, name, connected_by):\n",
    "        self.name = name\n",
    "        self.connected_by = connected_by\n",
    "        self.connected = True\n",
    "\n",
    "    def __str__(self):\n",
    "        return f\"Device {self.name!r} {self.connected_by}\"\n",
    "\n",
    "    def disconnected(self):\n",
    "        self.connected = False\n",
    "        print(\"Disconnected\")\n",
    "\n",
    "\n",
    "class Printer(Device):\n",
    "    def __init__(self,name, connected_by, capacity):\n",
    "        super().__init__(name, connected_by)\n",
    "        self.capacity = capacity\n",
    "        self.remaining_pages = capacity\n",
    "\n",
    "    def __str__(self):\n",
    "        return f\"{super().__str__()} ({self.remaining_pages} pages remaining)\"\n",
    "\n",
    "    def print(self, pages):\n",
    "        if not self.connected:\n",
    "            print(\"your printer is not connected\")\n",
    "            return\n",
    "        print(f\"Printing {pages} pages\")\n",
    "        self.remaining_pages -= pages\n",
    "\n",
    "\n",
    "\n",
    "\n",
    "\n",
    "\n",
    " # Running code           \n",
    "printer = Device(\"Printer\", \"USB\")hj\n",
    "print(printer)\n",
    "printer.disconnected()\n",
    "\n",
    "printer  = Printer(\"printer\", \"USB\", 500)\n",
    "printer.print(20)\n",
    "\n",
    "print(printer)"
   ]
  },
  {
   "cell_type": "code",
   "execution_count": 29,
   "metadata": {},
   "outputs": [
    {
     "name": "stdout",
     "output_type": "stream",
     "text": [
      "BookShelf with 2 books.\n"
     ]
    }
   ],
   "source": [
    "#Composition in python\n",
    "\n",
    "class BookShelf:\n",
    "    def __init__(self, *books: object) -> None:\n",
    "        self.books = books\n",
    "        \n",
    "    def __str__(self: str) -> str:\n",
    "        return f\"BookShelf with {len(self.books)} books.\"\n",
    "\n",
    "class Book:\n",
    "    def __init__(self, name: str) -> str:\n",
    "        self.name = name\n",
    "    def __str__(self) -> str:\n",
    "        return f\"Book {self.name}\"\n",
    "\n",
    "book = Book(\"harry porter\")\n",
    "book1 = Book(\"peter pan\")\n",
    "shelf = BookShelf(book,book1)\n",
    "print(shelf)\n"
   ]
  },
  {
   "cell_type": "code",
   "execution_count": null,
   "metadata": {},
   "outputs": [],
   "source": [
    "import sys \n",
    "print(sys.path)\n",
    "print(sys.modules)"
   ]
  },
  {
   "cell_type": "code",
   "execution_count": null,
   "metadata": {},
   "outputs": [],
   "source": [
    "def divided(dividend: int, divisor: int)-> float:\n",
    "    if divisor == 0:\n",
    "      raise ZeroDivisionError(\"Divisor cannnot be zero\")\n",
    "    return dividend/divisor\n",
    "\n",
    "students = [\n",
    "       {\"name\": \"bob\", \"grades\":[67,90]},\n",
    "       {\"name\": \"Rolf\", \"grades\":[67,100]},\n",
    "       {\"name\": \"bob\", \"grades\":[67,40]},\n",
    "       {\"name\": \"goblin\", \"grades\":[]}\n",
    "\n",
    "]\n",
    "\n",
    "print(\"finding average\")\n",
    "try:\n",
    "    for student in students:\n",
    "        name = student[\"name\"]\n",
    "        grades = student[\"grades\"]\n",
    "        average = divided(sum(grades), len(grades))\n",
    "        print(f\"The average grade is {average}.\")\n",
    "except ZeroDivisionError as e:\n",
    "    print(f\"ERROR {name} has no grade\")\n",
    "    print(\"There no grades in your list\")\n",
    "except ValueError:\n",
    "    pass\n",
    "else:\n",
    "    print(f\"The average grade is {average}.\")\n",
    "finally:\n",
    "    print(\"thank you\")"
   ]
  },
  {
   "cell_type": "code",
   "execution_count": 70,
   "metadata": {},
   "outputs": [
    {
     "name": "stdout",
     "output_type": "stream",
     "text": [
      "you have read 35 pages out of 50.\n",
      "you tried to read 85 pages, but this only has 50 pages\n"
     ]
    }
   ],
   "source": [
    "# Custom Error\n",
    "class TooManyPagesReadError(ValueError):\n",
    "    pass\n",
    "\n",
    "class Book:\n",
    "    def __init__(self,name: str, page_count:int):\n",
    "        self.name = name\n",
    "        self.page_count = page_count\n",
    "        self.pages_read = 0\n",
    "\n",
    "    def __repr__(self) -> str:\n",
    "        return (\n",
    "            f\"<Book {self.name}, read {self.pages_read} pages out of {self.page_count}>\"\n",
    "        )\n",
    "    def read(self, pages:int):\n",
    "        if self.pages_read +  pages > self.page_count:\n",
    "            raise TooManyPagesReadError(\n",
    "                f\"you tried to read {self.pages_read + pages} pages, but this only has {self.page_count} pages\"\n",
    "            )\n",
    "        self.pages_read += pages\n",
    "        print(f\"you have read {self.pages_read} pages out of {self.page_count}.\")\n",
    "try:\n",
    "   python101 = Book(\"Python 101\",50)\n",
    "   python101.read(35)\n",
    "   python101.read(50)\n",
    "except TooManyPagesReadError as e:\n",
    "    print(e)\n",
    "\n"
   ]
  },
  {
   "cell_type": "code",
   "execution_count": null,
   "metadata": {},
   "outputs": [],
   "source": [
    "# first class function is when you pass a function as parameter argument to another function see below\n",
    "from ast import operator\n",
    "# function 1\n",
    "def divided(dividend, divisor):\n",
    "    if divisor == 0:\n",
    "        raise zeroDivisionError(\"Divisor cannot be 0\")\n",
    "    return dividend / divisor\n",
    "\n",
    "def calculate(*values,operator):\n",
    "    return operator(*values)\n",
    "# here we passed divided as parameter argument to operator\n",
    "result = calculate(20,4, operator=divided)\n",
    "\n",
    "print(result)\n",
    "\n",
    "\n",
    "def search(sequence, expected, finder):\n",
    "    for element in sequence:\n",
    "        if finder(element) == expected:\n",
    "            return element\n",
    "    raise RuntimeError (f\"we could not find your desired element with {expected}\")\n",
    "\n",
    "friends = [\n",
    "    {\"name\": \"Rolf Smith\",\"age\":24},\n",
    "     {\"name\": \"Lizz wool\",\"age\":40},\n",
    "      {\"name\": \"Anne mabi\",\"age\":94}\n",
    "]\n",
    "\n",
    "def get_friends_name(friend):\n",
    "    return friend[\"name\"]\n",
    "\n",
    "print(search(friends, \"Rolf Smith\", get_friends_name))"
   ]
  },
  {
   "cell_type": "code",
   "execution_count": 96,
   "metadata": {},
   "outputs": [
    {
     "name": "stdout",
     "output_type": "stream",
     "text": [
      "{'name': 'Rolf Smith', 'age': 24}\n"
     ]
    }
   ],
   "source": [
    "# using lambda for your first class function\n",
    "def search(sequence, expected, finder):\n",
    "    for element in sequence:\n",
    "        if finder(element) == expected:\n",
    "            return element\n",
    "    raise RuntimeError (f\"we could not find your desired element with {expected}\")\n",
    "\n",
    "friends = [\n",
    "    {\"name\": \"Rolf Smith\",\"age\":24},\n",
    "     {\"name\": \"Lizz wool\",\"age\":40},\n",
    "      {\"name\": \"Anne mabi\",\"age\":94}\n",
    "]\n",
    "\n",
    "def get_friends_name(friend):\n",
    "    return friend[\"name\"]\n",
    "\n",
    "print(search(friends, \"Rolf Smith\", lambda friend: friend[\"name\"]))"
   ]
  },
  {
   "cell_type": "code",
   "execution_count": 98,
   "metadata": {},
   "outputs": [
    {
     "name": "stdout",
     "output_type": "stream",
     "text": [
      "{'name': 'Rolf Smith', 'age': 24}\n"
     ]
    }
   ],
   "source": [
    "# using the getter for the first class function\n",
    "from operator import itemgetter\n",
    "def search(sequence, expected, finder):\n",
    "    for element in sequence:\n",
    "        if finder(element) == expected:\n",
    "            return element\n",
    "    raise RuntimeError (f\"we could not find your desired element with {expected}\")\n",
    "\n",
    "friends = [\n",
    "    {\"name\": \"Rolf Smith\",\"age\":24},\n",
    "     {\"name\": \"Lizz wool\",\"age\":40},\n",
    "      {\"name\": \"Anne mabi\",\"age\":94}\n",
    "]\n",
    "\n",
    "def get_friends_name(friend):\n",
    "    return friend[\"name\"]\n",
    "\n",
    "print(search(friends, \"Rolf Smith\", itemgetter(\"name\")))"
   ]
  },
  {
   "cell_type": "code",
   "execution_count": 106,
   "metadata": {},
   "outputs": [
    {
     "name": "stdout",
     "output_type": "stream",
     "text": [
      "12345\n"
     ]
    }
   ],
   "source": [
    "# decoratot which can be applied to user name and password\n",
    "user = {\"username\": \"jose\",\"access_level\":\"admin\"}\n",
    "\n",
    "def get_admin_password():\n",
    "    return \"12345\"\n",
    "\n",
    "\n",
    "def make_secure(func):\n",
    "    def secure_fucntion():\n",
    "        if user[\"access_level\"] == \"admin\":\n",
    "            return func()\n",
    "        else:\n",
    "            return f\"No admin permission found for {user['username']}.\"\n",
    "\n",
    "    return secure_fucntion\n",
    "\n",
    "get_admin_password = make_secure(get_admin_password)\n",
    "\n",
    "print(get_admin_password())"
   ]
  },
  {
   "cell_type": "code",
   "execution_count": 111,
   "metadata": {},
   "outputs": [
    {
     "name": "stdout",
     "output_type": "stream",
     "text": [
      "get_admin_password\n",
      "12345\n"
     ]
    }
   ],
   "source": [
    "#decorator with the @ anotator\n",
    "user = {\"username\": \"jose\",\"access_level\":\"admin\"}\n",
    "@make_secure\n",
    "def get_admin_password():\n",
    "    return \"12345\"\n",
    "\n",
    "\n",
    "def make_secure(func):\n",
    "    def secure_fucntion():\n",
    "        if user[\"access_level\"] == \"admin\":\n",
    "            return func()\n",
    "        else:\n",
    "            return f\"No admin permission found for {user['username']}.\"\n",
    "\n",
    "    return secure_fucntion\n",
    "\n",
    "\n",
    "print(get_admin_password.__name__)\n",
    "print(get_admin_password())"
   ]
  },
  {
   "cell_type": "code",
   "execution_count": 112,
   "metadata": {},
   "outputs": [
    {
     "name": "stdout",
     "output_type": "stream",
     "text": [
      "secure_fucntion\n",
      "12345\n"
     ]
    }
   ],
   "source": [
    "#decorator with the with the functool to preserv the name of the called function\n",
    "import functools\n",
    "user = {\"username\": \"jose\",\"access_level\":\"admin\"}\n",
    "@make_secure\n",
    "def get_admin_password():\n",
    "    return \"12345\"\n",
    "\n",
    "\n",
    "def make_secure(func):\n",
    "    @functools.wraps(func)\n",
    "    def secure_fucntion():\n",
    "        if user[\"access_level\"] == \"admin\":\n",
    "            return func()\n",
    "        else:\n",
    "            return f\"No admin permission found for {user['username']}.\"\n",
    "\n",
    "    return secure_fucntion\n",
    "\n",
    "print(get_admin_password.__name__)\n",
    "print(get_admin_password())"
   ]
  },
  {
   "cell_type": "code",
   "execution_count": null,
   "metadata": {},
   "outputs": [],
   "source": [
    "# passing positional argument to  an inter function in a decorattor\n",
    "\n",
    "import functools\n",
    "user = {\"username\": \"jose\",\"access_level\":\"guest\"}\n",
    "\n",
    "\n",
    "\n",
    "def make_secure(func):\n",
    "    @functools.wraps(func)\n",
    "    def secure_fucntion(*arg, **kwargs):\n",
    "        if user[\"access_level\"] == \"admin\":\n",
    "            return func(*arg, **kwargs)\n",
    "        else:\n",
    "            return f\"No admin permission found for {user['username']}.\"\n",
    "\n",
    "    return secure_fucntion\n",
    "\n",
    "\n",
    "@make_secure\n",
    "def get_admin_password(panel):\n",
    "    if panel == \"admin\":\n",
    "        return \"1234\"\n",
    "    elif panel == \"blling\":\n",
    "        return \"super_secure_password\"\n",
    "\n",
    "print(get_admin_password.__name__)\n",
    "print(get_admin_password(\"billing\"))"
   ]
  },
  {
   "cell_type": "code",
   "execution_count": 117,
   "metadata": {},
   "outputs": [
    {
     "name": "stdout",
     "output_type": "stream",
     "text": [
      "No admin permission found for jose.\n",
      "user: user_password\n"
     ]
    }
   ],
   "source": [
    "\n",
    "import functools\n",
    "user = {\"username\": \"jose\",\"access_level\":\"guest\"}\n",
    "\n",
    "\n",
    "def  make_secure(access_level):\n",
    "    def decorator(func):\n",
    "        @functools.wraps(func)\n",
    "        def secure_fucntion(*arg, **kwargs):\n",
    "            if user[\"access_level\"] == access_level:\n",
    "                return func(*arg, **kwargs)\n",
    "            else:\n",
    "                return f\"No {access_level} permission found for {user['username']}.\"\n",
    "\n",
    "        return secure_fucntion\n",
    "    return decorator\n",
    "\n",
    "@make_secure(\"admin\")\n",
    "def get_admin_password():\n",
    "    return \"admin: 12345\"\n",
    "\n",
    "@make_secure(\"guest\")\n",
    "def get_admin_dashboard():\n",
    "    return \"user: user_password\"\n",
    "\n",
    "\n",
    "print(get_admin_password())\n",
    "print(get_admin_dashboard())"
   ]
  },
  {
   "cell_type": "markdown",
   "metadata": {},
   "source": [
    "## Immutablilty in python\n",
    "1. strings is  immutable\n",
    "2. float is also immutabel\n",
    "3. boolean is also immutable\n",
    "4. integer is also immutabel\n",
    "the rest are mutable and if you want to make a class immutable dont add any method that can change the object property\n",
    "## Note \n",
    "Do not use defualt paameter that are mutable in python"
   ]
  },
  {
   "cell_type": "code",
   "execution_count": 120,
   "metadata": {},
   "outputs": [
    {
     "name": "stdout",
     "output_type": "stream",
     "text": [
      "[90]\n",
      "[]\n"
     ]
    }
   ],
   "source": [
    "from typing import List, Optional \n",
    "\n",
    "class Student:\n",
    "    def __init__(self, name: str, grades: Optional[List[int]] = None) -> None:\n",
    "        self.name = name\n",
    "        self.grades = grades or []\n",
    "    \n",
    "    def take_exam(self, result: int):\n",
    "        self.grades.append(result)\n",
    "\n",
    "bob = Student(\"Bob\")\n",
    "rolf = Student(\"Rolf\")\n",
    "bob.take_exam(90)\n",
    "print(bob.grades)\n",
    "print(rolf.grades)\n"
   ]
  }
 ],
 "metadata": {
  "kernelspec": {
   "display_name": "Python 3.9.10 64-bit ('3.9.10')",
   "language": "python",
   "name": "python3"
  },
  "language_info": {
   "codemirror_mode": {
    "name": "ipython",
    "version": 3
   },
   "file_extension": ".py",
   "mimetype": "text/x-python",
   "name": "python",
   "nbconvert_exporter": "python",
   "pygments_lexer": "ipython3",
   "version": "3.9.10"
  },
  "orig_nbformat": 4,
  "vscode": {
   "interpreter": {
    "hash": "dd224fd2cb565c3513380784d7890424cf845a52c875a0cc0037d0be8b77a488"
   }
  }
 },
 "nbformat": 4,
 "nbformat_minor": 2
}
