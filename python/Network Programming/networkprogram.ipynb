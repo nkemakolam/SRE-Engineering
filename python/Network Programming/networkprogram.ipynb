{
 "cells": [
  {
   "cell_type": "code",
   "execution_count": 12,
   "metadata": {},
   "outputs": [
    {
     "name": "stdout",
     "output_type": "stream",
     "text": [
      "b'{\\n  \"args\": {\\n    \"name1\": \"value1\", \\n    \"name2\": \"value2\"\\n  }, \\n  \"headers\": {\\n    \"Accept-Encoding\": \"identity\", \\n    \"Host\": \"httpbin.org\", \\n    \"User-Agent\": \"Python-urllib/3.9\", \\n    \"X-Amzn-Trace-Id\": \"Root=1-633394f3-03c89e6c275834db6b45bc10\"\\n  }, \\n  \"origin\": \"149.74.242.209\", \\n  \"url\": \"http://httpbin.org/get?name1=value1&name2=value2\"\\n}\\n'\n"
     ]
    }
   ],
   "source": [
    "from urllib import request, parse # Base URL being accessed\n",
    "url = 'http://httpbin.org/get'\n",
    "    # Dictionary of query parameters (if any)\n",
    "parms = {\n",
    "       'name1' : 'value1',\n",
    "       'name2' : 'value2'\n",
    "}\n",
    "    # Encode the query string\n",
    "querystring = parse.urlencode(parms) \n",
    "# Make a GET request and read the response\n",
    "u = request.urlopen(url+'?' + querystring)\n",
    "resp = u.read()\n",
    "print(resp)"
   ]
  },
  {
   "cell_type": "code",
   "execution_count": 13,
   "metadata": {},
   "outputs": [
    {
     "name": "stdout",
     "output_type": "stream",
     "text": [
      "b'{\\n  \"args\": {}, \\n  \"data\": \"\", \\n  \"files\": {}, \\n  \"form\": {\\n    \"name1\": \"value1\", \\n    \"name2\": \"value2\"\\n  }, \\n  \"headers\": {\\n    \"Accept-Encoding\": \"identity\", \\n    \"Content-Length\": \"25\", \\n    \"Content-Type\": \"application/x-www-form-urlencoded\", \\n    \"Host\": \"httpbin.org\", \\n    \"User-Agent\": \"Python-urllib/3.9\", \\n    \"X-Amzn-Trace-Id\": \"Root=1-633394f4-2e05db0d492add370afb4520\"\\n  }, \\n  \"json\": null, \\n  \"origin\": \"149.74.242.209\", \\n  \"url\": \"http://httpbin.org/post\"\\n}\\n'\n"
     ]
    }
   ],
   "source": [
    "from urllib import request, parse # Base URL being accessed\n",
    "url = 'http://httpbin.org/post'\n",
    "    # Dictionary of query parameters (if any)\n",
    "parms = {\n",
    "       'name1' : 'value1',\n",
    "       'name2' : 'value2'\n",
    "}\n",
    "    # Encode the query string\n",
    "querystring = parse.urlencode(parms)\n",
    "    # Make a POST request and read the response\n",
    "u = request.urlopen(url, querystring.encode('ascii'))\n",
    "resp = u.read()\n",
    "print(resp)\n"
   ]
  },
  {
   "cell_type": "code",
   "execution_count": 14,
   "metadata": {},
   "outputs": [
    {
     "name": "stdout",
     "output_type": "stream",
     "text": [
      "b'{\\n  \"args\": {}, \\n  \"data\": \"\", \\n  \"files\": {}, \\n  \"form\": {\\n    \"name1\": \"value1\", \\n    \"name2\": \"value2\"\\n  }, \\n  \"headers\": {\\n    \"Accept-Encoding\": \"identity\", \\n    \"Content-Length\": \"25\", \\n    \"Content-Type\": \"application/x-www-form-urlencoded\", \\n    \"Host\": \"httpbin.org\", \\n    \"Spam\": \"Eggs\", \\n    \"User-Agent\": \"none/ofyourbusiness\", \\n    \"X-Amzn-Trace-Id\": \"Root=1-633394f4-47b61a770e4294c62e43c2e4\"\\n  }, \\n  \"json\": null, \\n  \"origin\": \"149.74.242.209\", \\n  \"url\": \"http://httpbin.org/post\"\\n}\\n'\n"
     ]
    }
   ],
   "source": [
    "from urllib import request, parse \n",
    "    # Extra headers\n",
    "headers = {\n",
    "        'User-agent' : 'none/ofyourbusiness',\n",
    "        'Spam' : 'Eggs'\n",
    "    }\n",
    "req = request.Request(url, querystring.encode('ascii'), headers=headers)\n",
    "    # Make a request and read the response\n",
    "u = request.urlopen(req)\n",
    "resp = u.read()\n",
    "print(resp)"
   ]
  },
  {
   "cell_type": "code",
   "execution_count": 19,
   "metadata": {},
   "outputs": [
    {
     "ename": "ModuleNotFoundError",
     "evalue": "No module named 'requests'",
     "output_type": "error",
     "traceback": [
      "\u001b[0;31m---------------------------------------------------------------------------\u001b[0m",
      "\u001b[0;31mModuleNotFoundError\u001b[0m                       Traceback (most recent call last)",
      "\u001b[1;32m/Users/nkemakolamnnadi/Documents/Project/SRE-Engineering/python/Network Programming/networkprogram.ipynb Cell 4\u001b[0m in \u001b[0;36m<cell line: 1>\u001b[0;34m()\u001b[0m\n\u001b[0;32m----> <a href='vscode-notebook-cell:/Users/nkemakolamnnadi/Documents/Project/SRE-Engineering/python/Network%20Programming/networkprogram.ipynb#W3sZmlsZQ%3D%3D?line=0'>1</a>\u001b[0m \u001b[39mimport\u001b[39;00m \u001b[39mrequests\u001b[39;00m\n\u001b[1;32m      <a href='vscode-notebook-cell:/Users/nkemakolamnnadi/Documents/Project/SRE-Engineering/python/Network%20Programming/networkprogram.ipynb#W3sZmlsZQ%3D%3D?line=1'>2</a>\u001b[0m \u001b[39m# Base URL being accessed\u001b[39;00m\n\u001b[1;32m      <a href='vscode-notebook-cell:/Users/nkemakolamnnadi/Documents/Project/SRE-Engineering/python/Network%20Programming/networkprogram.ipynb#W3sZmlsZQ%3D%3D?line=2'>3</a>\u001b[0m url \u001b[39m=\u001b[39m \u001b[39m'\u001b[39m\u001b[39mhttp://httpbin.org/post\u001b[39m\u001b[39m'\u001b[39m\n",
      "\u001b[0;31mModuleNotFoundError\u001b[0m: No module named 'requests'"
     ]
    }
   ],
   "source": [
    "import requests\n",
    "# Base URL being accessed\n",
    "url = 'http://httpbin.org/post'\n",
    "    # Dictionary of query parameters (if any)\n",
    "parms = {\n",
    "       'name1' : 'value1',\n",
    "       'name2' : 'value2'\n",
    "}\n",
    "    # Extra headers\n",
    "headers = {\n",
    "        'User-agent' : 'none/ofyourbusiness',\n",
    "        'Spam' : 'Eggs'\n",
    "    }\n",
    "resp = requests.post(url, data=parms, headers=headers)\n",
    "    # Decoded text returned by the request\n",
    "text = resp.text\n",
    "print(text)"
   ]
  }
 ],
 "metadata": {
  "kernelspec": {
   "display_name": "Python 3.9.10 64-bit ('3.9.10')",
   "language": "python",
   "name": "python3"
  },
  "language_info": {
   "codemirror_mode": {
    "name": "ipython",
    "version": 3
   },
   "file_extension": ".py",
   "mimetype": "text/x-python",
   "name": "python",
   "nbconvert_exporter": "python",
   "pygments_lexer": "ipython3",
   "version": "3.9.10"
  },
  "orig_nbformat": 4,
  "vscode": {
   "interpreter": {
    "hash": "dd224fd2cb565c3513380784d7890424cf845a52c875a0cc0037d0be8b77a488"
   }
  }
 },
 "nbformat": 4,
 "nbformat_minor": 2
}
