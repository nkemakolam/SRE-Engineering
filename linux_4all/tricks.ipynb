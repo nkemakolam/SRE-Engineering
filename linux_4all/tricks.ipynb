{
 "cells": [
  {
   "cell_type": "code",
   "execution_count": null,
   "metadata": {
    "vscode": {
     "languageId": "shellscript"
    }
   },
   "outputs": [],
   "source": [
    "## for  loop to read file \n",
    "\n",
    "for file in $(ls)\n",
    "do \n",
    "  echo Line count of $file is $(cat $file |wc -l)\n",
    "done\n",
    "\n",
    "## for loop with injection file\n",
    "for mission in $(cat mission-name.txt)\n",
    "do\n",
    "create-and-launch-rocket mission-$mission\n",
    "done\n",
    "\n",
    "# using the regular  partern\n",
    "for ((a = 0; a <= 100; a++))\n",
    "do\n",
    "echo $\n",
    "done\n",
    "\n",
    "for package in $(cat install-package.txt)\n",
    "do \n",
    "  sudo apt-get -y install $package\n",
    "done\n",
    "\n",
    "#while loop and usage\n",
    "\n",
    "while [$rocket_status = \"launching\"]\n",
    "do\n",
    "  sleep 2\n",
    "  rocket_status= rocket_status $mission_name\n",
    "done\n",
    "if [rocket_status = \"failed\"]\n",
    "then\n",
    " rocket-debug $mission_name\n",
    " exit 1\n",
    " fi\n",
    "\n",
    "#realife example of while loop\n",
    "while true\n",
    "do\n",
    "\n",
    "  echo \"1. shutdown\"\n",
    "  echo \"2. Restart\"\n",
    "  echo \"3. Exit Menu\"\n",
    "  read -p \"enter your choice: \" choice\n",
    "\n",
    "  if [$choice -eq 1 ]\n",
    "  then \n",
    "     shutdown now\n",
    "  elif [$choice -eq 2 ]\n",
    "  then\n",
    "    shutdown -r now\n",
    "  elif [$choice -eq 3 ]\n",
    "  then \n",
    "    break \n",
    "  else \n",
    "    continue\n",
    "  fi\n",
    "\n",
    "\n",
    "## using case to re-write the above \n",
    "\n",
    "while true\n",
    "do\n",
    "\n",
    "  echo \"1. shutdown\"\n",
    "  echo \"2. Restart\"\n",
    "  echo \"3. Exit Menu\"\n",
    "  read -p \"enter your choice: \" choice\n",
    "\n",
    " case $choice in\n",
    "    1) shutdown now\n",
    "       ;;\n",
    "    2) shutdown -r now\n",
    "       ;;\n",
    "    3) break\n",
    "       ;;\n",
    "    *) continue\n",
    "       ;;\n",
    " esac\n",
    "\n",
    "done\n",
    "\n",
    "### function in Linux\n",
    "\n",
    "function launch-rocket() {\n",
    "    mission_name=$1\n",
    "    mkdir $mission_name\n",
    "    rocket-add $mission_name\n",
    "\n",
    "    rocket-start-power $mission_name\n",
    "    rocket-internal-power $mission_name\n",
    "    rocket-start-sequence $mission_name\n",
    "    rocket-lift-off $mission_name\n",
    "\n",
    "    rocket_status=$(rocket-status $mission_name)\n",
    "\n",
    "    while [$rocket_status == \"launching\"]\n",
    "    do\n",
    "      sleep 2\n",
    "      rocket_status=$(rocket-status $mission_name)\n",
    "      done\n",
    "      if [$rocket_status = \"fialed\"]\n",
    "      then\n",
    "         rocket-debug $mission_name\n",
    "         return 1\n",
    "\n",
    "      fi\n",
    "\n",
    "      launching-rocket lunar-mission\n",
    "      \n",
    "\n",
    "}\n",
    "\n",
    "https://github.com/koalaman/shellcheck"
   ]
  },
  {
   "cell_type": "code",
   "execution_count": null,
   "metadata": {
    "vscode": {
     "languageId": "shellscript"
    }
   },
   "outputs": [],
   "source": [
    "## operations using some linux command\n",
    "head Mountain.csv\n",
    "mkdir reports\n",
    "grep Everest Mountain.csv > reports/Everest.csv"
   ]
  },
  {
   "cell_type": "code",
   "execution_count": null,
   "metadata": {
    "vscode": {
     "languageId": "shellscript"
    }
   },
   "outputs": [],
   "source": [
    "# show where shell is located\n",
    "#!/usr/bin/env zsh\n",
    "\n",
    "# conditional expression for if\n",
    "[[ $Str ]] # checks if a varibable string is not empty \n",
    "[[ Str = \"something\" ]] # compares if a vairable string is equal to another string\n",
    "[[ - e $filename ]] # checks if a file name exist\n",
    "[[ -d $dirname ]] # directory exist\n",
    "[[ ! -e $file ]] #file does NOT exist\n",
    "[[ ! $1 ]] # this returns true when user did not pass first arument\n",
    "[[ -d $dir && $1 = \"foo\"]] #this true when both contion or comaprism is true\n",
    "[[ $a || $b ]] # when  either is true\n"
   ]
  }
 ],
 "metadata": {
  "kernelspec": {
   "display_name": "Python 3.9.10 64-bit ('3.9.10')",
   "language": "python",
   "name": "python3"
  },
  "language_info": {
   "name": "python",
   "version": "3.9.10"
  },
  "orig_nbformat": 4,
  "vscode": {
   "interpreter": {
    "hash": "dd224fd2cb565c3513380784d7890424cf845a52c875a0cc0037d0be8b77a488"
   }
  }
 },
 "nbformat": 4,
 "nbformat_minor": 2
}
