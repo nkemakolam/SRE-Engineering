{
 "cells": [
  {
   "cell_type": "markdown",
   "metadata": {},
   "source": [
    "Command Line  arguments\n",
    "thses are ways to pass variable from command line to script or environment.\n",
    " Script one\n",
    "#!/bin/bash\n",
    " FullName='Nkem Nnad'\n",
    " echo ${FullName}\n"
   ]
  },
  {
   "cell_type": "markdown",
   "metadata": {},
   "source": [
    "Reading Input from commandline\n",
    "read -p \"Enter mission name:\" mission_name"
   ]
  },
  {
   "cell_type": "code",
   "execution_count": 11,
   "metadata": {
    "vscode": {
     "languageId": "shellscript"
    }
   },
   "outputs": [
    {
     "ename": "SyntaxError",
     "evalue": "invalid syntax (148126994.py, line 5)",
     "output_type": "error",
     "traceback": [
      "\u001b[0;36m  Input \u001b[0;32mIn [11]\u001b[0;36m\u001b[0m\n\u001b[0;31m    SECRETS+=($(az keyvault secret list --vault-name $Source_Kv_Name --query \"[].id\" -o tsv))\u001b[0m\n\u001b[0m              ^\u001b[0m\n\u001b[0;31mSyntaxError\u001b[0m\u001b[0;31m:\u001b[0m invalid syntax\n"
     ]
    }
   ],
   "source": [
    "#!/bin/bash\n",
    "Source_Kv_Name=\"nke-test\"\n",
    "Dest_Kv_Name=\"nke-finali\"\n",
    "MAINSCRETE=\"comfident\"\n",
    "SECRETS+=($(az keyvault secret list --vault-name $Source_Kv_Name --query \"[].id\" -o tsv))\n",
    "for SECRET in \"${SECRETS[@]}\"; do\n",
    "SECRETNAME=$(echo \"$SECRET\" | sed 's|.*/||')\n",
    "SECRET_CHECK=$(az keyvault secret list --vault-name $Dest_Kv_Name --query \"[?name=='$SECRETNAME']\" -o tsv)\n",
    "if [ -n \"$SECRET_CHECK\" ]\n",
    "then\n",
    "    echo \"$SECRETNAME already exists in $Dest_Kv_Name\"\n",
    "else\n",
    "  for nkem in $SECRETNAME ; do\n",
    "   if [[ \"$nkem\"  == \"$MAINSCRETE\" ]]; then\n",
    "    echo $nkem\n",
    "    echo \"coping the match\"\n",
    "    echo \"Copying $SECRETNAME from Source KeyVault: $Source_Kv_Name to Destination KeyVault: $Dest_Kv_Name\"\n",
    "    SECRET=$(az keyvault secret show --vault-name $Source_Kv_Name -n $SECRETNAME --query \"value\" -o tsv)\n",
    "    az keyvault secret set --vault-name $Dest_Kv_Name -n $SECRETNAME --value \"$SECRET\" >/dev/null\n",
    "    echo \"secret copied\"\n",
    "  \n",
    "    else\n",
    "       echo \"looping through plesase be patient\"\n",
    "    fi\n",
    "    done\n",
    "fi\n",
    "done"
   ]
  },
  {
   "cell_type": "markdown",
   "metadata": {},
   "source": [
    "#### Meteric script for querying the cluster and taking countv of the pods using linux world count\n",
    "\n",
    "\n",
    "kubectl get pods --all-namespaces|tail -n +2 | wc -l   [main count ]\n",
    "\n",
    "kubectl get pods --all-namespaces|grep kube-system |tail -n +2 | wc -l  [excluding kube-system pod]\n",
    "\n",
    "\n",
    "  az aks get-credentials --resource-group rs-uni-webs-aks-io  --name  uni-webs-aks-k8s-io --admin\n",
    "\n"
   ]
  },
  {
   "cell_type": "code",
   "execution_count": 12,
   "metadata": {},
   "outputs": [],
   "source": [
    "from md5hash import scan\n",
    "print(scan('file.txt'))"
   ]
  }
 ],
 "metadata": {
  "kernelspec": {
   "display_name": "Python 3",
   "language": "python",
   "name": "python3"
  },
  "language_info": {
   "codemirror_mode": {
    "name": "ipython",
    "version": 3
   },
   "file_extension": ".py",
   "mimetype": "text/x-python",
   "name": "python",
   "nbconvert_exporter": "python",
   "pygments_lexer": "ipython3",
   "version": "3.9.4"
  },
  "orig_nbformat": 4,
  "vscode": {
   "interpreter": {
    "hash": "775bb0c6daa72b7d57c0b5c39545651d1921246c9cbd000b6bc39174da8058eb"
   }
  }
 },
 "nbformat": 4,
 "nbformat_minor": 2
}
