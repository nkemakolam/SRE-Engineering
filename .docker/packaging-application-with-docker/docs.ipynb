{
 "cells": [
  {
   "cell_type": "code",
   "execution_count": null,
   "metadata": {},
   "outputs": [],
   "source": []
  },
  {
   "cell_type": "markdown",
   "metadata": {
    "notebookRunGroups": {
     "groupValue": "12"
    }
   },
   "source": [
    "## packaging application in docker\n",
    "#### instruction \n",
    "before we use docker file for packaging our application let learn how to package application in docker manually see steps below\n",
    "\n",
    "> - install NodeJs (8.xx)with NPM\n",
    "> - Checkout the code and changeinto result dir\n",
    "> - Run npm 'install'\n",
    "> - Run npm test to run unit tests\n",
    "> - Application would start onport 4000\n",
    ">> **Steps**\n",
    "  > - First clone the source code\n",
    "  > - build intermitent container by using docker run command\n",
    "  > - using an image with a specific vsersion of nodejs from docker registory\n",
    "  > - copy the source code into that intermediate container and run the steps to package the application just like a vm process\n",
    "  > - Test it with npm start command and once you have confirmed that the container is runnin well  \n",
    "  > - Then convert it to an imgae using docker commit command\n",
    "  > - The commit will package the application into an immage and that you can push to the repository using docker push.\n",
    "      >> __Command for manual docker build__\n",
    "  > - `docker  container run -idt --name <name of intermidiate container> --port <4000:4000> <image version> `\n",
    "  > - `docker ps -l`\n",
    "  > - `docker cp . <name of intermidiate container:/app> or <path to sourcefile <name of intermidiate container:/app>>`\n"
   ]
  },
  {
   "cell_type": "markdown",
   "metadata": {},
   "source": []
  },
  {
   "cell_type": "code",
   "execution_count": 5,
   "metadata": {
    "vscode": {
     "languageId": "shellscript"
    }
   },
   "outputs": [
    {
     "ename": "SyntaxError",
     "evalue": "invalid syntax (637547804.py, line 1)",
     "output_type": "error",
     "traceback": [
      "\u001b[0;36m  Input \u001b[0;32mIn [5]\u001b[0;36m\u001b[0m\n\u001b[0;31m    docker container run -idt --name nodebuild-3 -p 4000:4000 node:8.16.0-alpine\u001b[0m\n\u001b[0m           ^\u001b[0m\n\u001b[0;31mSyntaxError\u001b[0m\u001b[0;31m:\u001b[0m invalid syntax\n"
     ]
    }
   ],
   "source": [
    "docker container run -idt --name nodebuild -p 4000:4000 node:8.16.0-alpine\n",
    "docker ps -l\n",
    "docker cp . nodebuild:/app\n",
    "docker exec -it  nodebuild sh\n",
    "ls && cd app\n",
    "ps aux && which node &&  which npm\n",
    "npm install && npm audit fix\n",
    "\n"
   ]
  }
 ],
 "metadata": {
  "kernelspec": {
   "display_name": "Python 3.9.4 64-bit ('3.9.4')",
   "language": "python",
   "name": "python3"
  },
  "language_info": {
   "codemirror_mode": {
    "name": "ipython",
    "version": 3
   },
   "file_extension": ".py",
   "mimetype": "text/x-python",
   "name": "python",
   "nbconvert_exporter": "python",
   "pygments_lexer": "ipython3",
   "version": "3.9.4"
  },
  "orig_nbformat": 4,
  "vscode": {
   "interpreter": {
    "hash": "775bb0c6daa72b7d57c0b5c39545651d1921246c9cbd000b6bc39174da8058eb"
   }
  }
 },
 "nbformat": 4,
 "nbformat_minor": 2
}
