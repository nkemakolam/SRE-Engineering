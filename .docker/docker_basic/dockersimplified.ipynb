{
 "cells": [
  {
   "cell_type": "markdown",
   "metadata": {},
   "source": [
    " ### docker event  command steps\n",
    " docker image pull + docker container  create + docker container start = docker container run \n",
    " docker system events\n",
    " docker container run <image name>\n",
    " docker ps -n 2\n",
    " docker ps -l\n",
    " docker ps -n 5 -l\n",
    " docker image ls\n",
    " docker image history <image id>\n",
    "\n",
    "### Note \n",
    "when docker pulls and image it creates a container and then start that container meaning the container has everything from libs, namespace network to run that container\n",
    "when that container start then docker deamon attaches it self to the container that how it knows the status of the container\n"
   ]
  },
  {
   "cell_type": "markdown",
   "metadata": {},
   "source": [
    "Adding Default  Container Run Options\n",
    "docker container run -it centos bash \n",
    "docker container run --rm  -it centos bash \n",
    "docker container run --rm -it alpine sh\n",
    "docker container run --rm -itd --name redis redis:alpine sh"
   ]
  },
  {
   "cell_type": "markdown",
   "metadata": {},
   "source": [
    "## Accessing Application with Port Mapping\n",
    "docker container run -idt -p 8080:80  --name nginx  nginx\n",
    "docker history nginx\n",
    "docker container run -idt -P nginx # using -P allows docker to  pict a port "
   ]
  },
  {
   "cell_type": "markdown",
   "metadata": {},
   "source": [
    "## Trouble shooting Docker \n",
    "\n",
    "docker logs <container Id>\n",
    "docker logs -f <container Id>\n",
    "docker exec <container Id> <command to be executed>\n",
    "docker exec <container id> [ifconfig, ps, hostname,uname,uptime etc]\n",
    "docker exec -it <container id>  \n",
    "##### within the alpin sh terminal for you to install app use the command below\n",
    "apk add <package>\n",
    "apk add vim\n",
    "\n"
   ]
  },
  {
   "cell_type": "markdown",
   "metadata": {},
   "source": [
    "## runnning docker with volume\n",
    "docker  volume create <volume_name>\n",
    "docker volume  # will list all the subsiary command\n",
    "docker volume inspect nextcloud\n",
    "docker container run -idt -P -v <volumen name> :/var/www/html <image>"
   ]
  },
  {
   "cell_type": "markdown",
   "metadata": {},
   "source": [
    "### cleaning up \n",
    "docker image prune\n",
    "docker sytem prune"
   ]
  },
  {
   "cell_type": "markdown",
   "metadata": {},
   "source": [
    "### packaging application with  docker\n",
    "  ##### ref https://github.com/lfs261/devops-repo\n",
    "Steps to manaully build a docker container\n",
    "git clone the source code\n",
    "create an intermediary container \n",
    "copy the code from the source code to the intermediary container\n",
    "build the or run the steps to build and run the app\n",
    "docker commit convert the conter  to image \n",
    "docker push the newly build imgabe to docker repo\n",
    "\n",
    "Implemenetation of manually bulding \n",
    "1. git clone https://github.com/gshah-org/example-voting-app.git\n",
    "\n",
    "2. docker container run -idt --name nodebuild -p 4000:4000 node:8.16.0-alpine\n",
    "3. docker ps -l # to list and get the name of the intermidate container as specified above\n",
    "4. docker cp . nodebuild:/app\n",
    "5. docker exec -it nodebuild sh # to exec into the container in order to run the step to build the app\n",
    "6. in the terminal of the container please verify that the package u whant to use to build is install in our case is node so the following code will be executed on the terminal of the runing container\n",
    "7. navigate to the directory of the source code copied to the intermediary container\n",
    "8. ps aux\n",
    "9. which nodejs\n",
    "10. which node\n",
    "11. which npm\n",
    "12. npm test # if we have unit test \n",
    "13. npm start\n",
    "14. exit the container shell or terminal \n",
    "15. docker container commit nodebuild nkem/result:v1 #this the comand to convert te container to image\n",
    "16. docker image list\n",
    "17. docker image history 6e61e82415c1\n",
    "18. docker image push nkem/result:v1\n"
   ]
  },
  {
   "cell_type": "markdown",
   "metadata": {},
   "source": [
    "## Automating the manual docker build steps above\n",
    "From  node:8.16.0-alpine\n",
    "WORKDIR /app\n",
    "COPY . .\n",
    "RUN npm install && \\\n",
    "    npm audit fix\n",
    "EXPOSE 4000\n",
    "CMD npm start"
   ]
  },
  {
   "cell_type": "markdown",
   "metadata": {},
   "source": [
    "## GIt tip for dreating new branch and commiting that branch to remote\n",
    "\n",
    "git checkout -b feature/nkem-newbranch\n",
    "git status\n",
    "git add feature/nkem-newbranch\n",
    "git commit -am\"update\"\n",
    "git push origin feature/nkem-newbranch"
   ]
  },
  {
   "cell_type": "markdown",
   "metadata": {},
   "source": [
    "## Using helm to package and install application\n",
    " first goto the helm.sh navigate to docs go to install and install it on your machine\n",
    "\n",
    " ### Helm command\n",
    " helm search \n",
    " helm search hub wordpress\n",
    " helm search hub wordpress --max-col - width 1000\n",
    " helm repo list\n",
    " helm repo add  <repository of the chat> \n",
    " helm install <name of release>  <address of the chat> eg helm install blog btnami/wordpress\n",
    " helm release list\n",
    " helm uninstall <release name>\n",
    "\n",
    " usefull places to get chart\n",
    " https://artifacthub.io/"
   ]
  },
  {
   "cell_type": "code",
   "execution_count": null,
   "metadata": {
    "dotnet_interactive": {
     "language": "csharp"
    },
    "vscode": {
     "languageId": "dotnet-interactive.csharp"
    }
   },
   "outputs": [],
   "source": [
    "COPY ./testrunner.sh /\n",
    "RUN chmod +x /testrunner.sh\n",
    "ENTRYPOINT [\"/testrunner.sh\"]"
   ]
  }
 ],
 "metadata": {
  "kernelspec": {
   "display_name": ".NET (C#)",
   "language": "C#",
   "name": ".net-csharp"
  },
  "language_info": {
   "file_extension": ".cs",
   "mimetype": "text/x-csharp",
   "name": "C#",
   "pygments_lexer": "csharp",
   "version": "9.0"
  },
  "orig_nbformat": 4,
  "vscode": {
   "interpreter": {
    "hash": "dd224fd2cb565c3513380784d7890424cf845a52c875a0cc0037d0be8b77a488"
   }
  }
 },
 "nbformat": 4,
 "nbformat_minor": 2
}
