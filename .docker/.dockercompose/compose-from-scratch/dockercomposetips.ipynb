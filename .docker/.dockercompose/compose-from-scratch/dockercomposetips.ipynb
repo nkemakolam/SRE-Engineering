{
 "cells": [
  {
   "cell_type": "markdown",
   "metadata": {},
   "source": [
    "### Docker compose Tips\n",
    "Here docker composed command must be run nin the directory where the docker commpose file is located\n",
    "Note that the docker compose is a yaml file that declaratively state service that are running in a mini orchestrateddev local setup\n",
    "#### Benefit\n",
    "* Is easy to set up\n",
    "* it a fastest way to set up dev env\n",
    "* it is easy to clean up as all is running in a containar\n",
    "* docker-compose up -d to run as a background server to free up the terminial\n",
    "* docker-compose up -d \n",
    "* docker-compose down\n",
    "* docker-compose ps\n",
    "* docker-compose logs <service name or container name>\n",
    "* docker-compose exec <service name or container name> sh \n",
    "In the below we will build a compose file from scratch"
   ]
  },
  {
   "cell_type": "code",
   "execution_count": null,
   "metadata": {},
   "outputs": [],
   "source": [
    "# building a  composefile from scratch transfroming a docker command to a composed yaml file\n",
    "# docker command is docker container run -idt --name vote  -p 5000:80  initcron/vote:master\n",
    "# this compose yaml below is the transformation of the docker command above\n",
    "vote:\n",
    "  image: nitcron/vote:master \n",
    "  port:\n",
    "    - 5000:80 #5000 is host port while 80 is container port in case you defined a special port for your container or host\n",
    "\n",
    "result:\n",
    "  image: nitcron/result:master \n",
    "  port:\n",
    "    - 5000:4000 #5000 is host port while 4000 is container port in case you defined a special port for your container or host\n",
    "\n",
    "worker:\n",
    "  image: nitcron/worker:latest \n"
   ]
  },
  {
   "cell_type": "markdown",
   "metadata": {},
   "source": [
    "Docker compose version 3 reference\n",
    "https://docs.docker.com/compose/compose-file/\n",
    "\n",
    "database defualt mount path for container\n",
    "https://hub.docker.com/_/postgres"
   ]
  }
 ],
 "metadata": {
  "kernelspec": {
   "display_name": "Python 3.9.4 64-bit ('3.9.4')",
   "language": "python",
   "name": "python3"
  },
  "language_info": {
   "name": "python",
   "version": "3.9.4"
  },
  "orig_nbformat": 4,
  "vscode": {
   "interpreter": {
    "hash": "775bb0c6daa72b7d57c0b5c39545651d1921246c9cbd000b6bc39174da8058eb"
   }
  }
 },
 "nbformat": 4,
 "nbformat_minor": 2
}
